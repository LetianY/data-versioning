{
  "nbformat": 4,
  "nbformat_minor": 0,
  "metadata": {
    "colab": {
      "provenance": [],
      "include_colab_link": true
    },
    "kernelspec": {
      "name": "python3",
      "display_name": "Python 3"
    },
    "language_info": {
      "name": "python"
    }
  },
  "cells": [
    {
      "cell_type": "markdown",
      "metadata": {
        "id": "view-in-github",
        "colab_type": "text"
      },
      "source": [
        "<a href=\"https://colab.research.google.com/github/LetianY/data-versioning/blob/main/data_pipeline_versioning_cloud_storage.ipynb\" target=\"_parent\"><img src=\"https://colab.research.google.com/assets/colab-badge.svg\" alt=\"Open In Colab\"/></a>"
      ]
    },
    {
      "cell_type": "markdown",
      "source": [
        "<h1 style=\"padding-top: 25px;padding-bottom: 25px;text-align: left; padding-left: 10px; background-color: #DDDDDD;\n",
        "    color: black;\"> <img style=\"float: left; padding-right: 10px;\" src=\"https://raw.githubusercontent.com/Harvard-IACS/2018-CS109A/master/content/styles/iacs.png\" height=\"50px\"> <a href='https://harvard-iacs.github.io/2023-AC215/' target='_blank'><strong><font color=\"#A41034\">AC215: Productionizing AI (MLOps)</font></strong></a></h1>\n",
        "\n",
        "# **<font color=\"#A41034\">Tutorial - Data Pipelines, Labeling, Versioning, Cloud Storage</font>**\n",
        "\n",
        "**Harvard University**<br/>\n",
        "**Fall 2024**<br/>\n",
        "**Instructor:**<br/>\n",
        "Pavlos Protopapas\n",
        "\n",
        "<hr style=\"height:2pt\">"
      ],
      "metadata": {
        "id": "YFxW-HdV50Dt"
      }
    },
    {
      "cell_type": "markdown",
      "metadata": {
        "id": "JzLb0a0JhSe6"
      },
      "source": [
        "## **<font color=\"#A41034\">Tutorial Outline</font>**"
      ]
    },
    {
      "cell_type": "markdown",
      "metadata": {
        "id": "47PVQ5tXGUQA"
      },
      "source": [
        "## **Learning Objectives**\n",
        "\n",
        "By the end of this notebook, you will be:\n",
        "* Familiar with data version from a DVC repo\n",
        "\n",
        "\n",
        "## **Tutorial Content**\n",
        "\n",
        "In order to run this tutorial you should have completed [Data Labeling & Versioning](https://github.com/dlops-io/data-labeling) steps.\n",
        "\n",
        "- View data from a remote DVC repo\n",
        "- Retrieve data from a remote DVC repo\n",
        "- Retrieve a specifi data version from DVC\n"
      ]
    },
    {
      "cell_type": "markdown",
      "metadata": {
        "id": "FgY9xWhgGdt8"
      },
      "source": [
        "## **<font color=\"#A41034\">Setup Notebook</font>**"
      ]
    },
    {
      "cell_type": "markdown",
      "metadata": {
        "id": "c-HGo-xOGr2t"
      },
      "source": [
        "**Copy & setup Colab**"
      ]
    },
    {
      "cell_type": "markdown",
      "metadata": {
        "id": "4qfXH3wYGtSa"
      },
      "source": [
        "1) Select \"File\" menu and pick \"Save a copy in Drive\"   "
      ]
    },
    {
      "cell_type": "markdown",
      "metadata": {
        "id": "nDeiSGphB0ST"
      },
      "source": [
        "**Installs**"
      ]
    },
    {
      "cell_type": "code",
      "metadata": {
        "id": "w6Ez0ZcmB1wB",
        "colab": {
          "base_uri": "https://localhost:8080/"
        },
        "outputId": "e05fca68-2beb-4907-a817-58997c935bd2"
      },
      "source": [
        "!pip install dvc dvc-gs"
      ],
      "execution_count": 1,
      "outputs": [
        {
          "output_type": "stream",
          "name": "stdout",
          "text": [
            "Requirement already satisfied: dvc in /usr/local/lib/python3.10/dist-packages (3.55.2)\n",
            "Requirement already satisfied: dvc-gs in /usr/local/lib/python3.10/dist-packages (3.0.1)\n",
            "Requirement already satisfied: attrs>=22.2.0 in /usr/local/lib/python3.10/dist-packages (from dvc) (24.2.0)\n",
            "Requirement already satisfied: celery in /usr/local/lib/python3.10/dist-packages (from dvc) (5.4.0)\n",
            "Requirement already satisfied: colorama>=0.3.9 in /usr/local/lib/python3.10/dist-packages (from dvc) (0.4.6)\n",
            "Requirement already satisfied: configobj>=5.0.6 in /usr/local/lib/python3.10/dist-packages (from dvc) (5.0.9)\n",
            "Requirement already satisfied: distro>=1.3 in /usr/lib/python3/dist-packages (from dvc) (1.7.0)\n",
            "Requirement already satisfied: dpath<3,>=2.1.0 in /usr/local/lib/python3.10/dist-packages (from dvc) (2.2.0)\n",
            "Requirement already satisfied: dulwich in /usr/local/lib/python3.10/dist-packages (from dvc) (0.22.3)\n",
            "Requirement already satisfied: dvc-data<3.17,>=3.16.2 in /usr/local/lib/python3.10/dist-packages (from dvc) (3.16.6)\n",
            "Requirement already satisfied: dvc-http>=2.29.0 in /usr/local/lib/python3.10/dist-packages (from dvc) (2.32.0)\n",
            "Requirement already satisfied: dvc-objects in /usr/local/lib/python3.10/dist-packages (from dvc) (5.1.0)\n",
            "Requirement already satisfied: dvc-render<2,>=1.0.1 in /usr/local/lib/python3.10/dist-packages (from dvc) (1.0.2)\n",
            "Requirement already satisfied: dvc-studio-client<1,>=0.21 in /usr/local/lib/python3.10/dist-packages (from dvc) (0.21.0)\n",
            "Requirement already satisfied: dvc-task<1,>=0.3.0 in /usr/local/lib/python3.10/dist-packages (from dvc) (0.40.2)\n",
            "Requirement already satisfied: flatten-dict<1,>=0.4.1 in /usr/local/lib/python3.10/dist-packages (from dvc) (0.4.2)\n",
            "Requirement already satisfied: flufl.lock<9,>=8.1.0 in /usr/local/lib/python3.10/dist-packages (from dvc) (8.1.0)\n",
            "Requirement already satisfied: fsspec>=2024.2.0 in /usr/local/lib/python3.10/dist-packages (from dvc) (2024.6.1)\n",
            "Requirement already satisfied: funcy>=1.14 in /usr/local/lib/python3.10/dist-packages (from dvc) (2.0)\n",
            "Requirement already satisfied: grandalf<1,>=0.7 in /usr/local/lib/python3.10/dist-packages (from dvc) (0.8)\n",
            "Requirement already satisfied: gto<2,>=1.6.0 in /usr/local/lib/python3.10/dist-packages (from dvc) (1.7.1)\n",
            "Requirement already satisfied: hydra-core>=1.1 in /usr/local/lib/python3.10/dist-packages (from dvc) (1.3.2)\n",
            "Requirement already satisfied: iterative-telemetry>=0.0.7 in /usr/local/lib/python3.10/dist-packages (from dvc) (0.0.9)\n",
            "Requirement already satisfied: kombu in /usr/local/lib/python3.10/dist-packages (from dvc) (5.4.2)\n",
            "Requirement already satisfied: networkx>=2.5 in /usr/local/lib/python3.10/dist-packages (from dvc) (3.4)\n",
            "Requirement already satisfied: omegaconf in /usr/local/lib/python3.10/dist-packages (from dvc) (2.3.0)\n",
            "Requirement already satisfied: packaging>=19 in /usr/local/lib/python3.10/dist-packages (from dvc) (24.1)\n",
            "Requirement already satisfied: pathspec>=0.10.3 in /usr/local/lib/python3.10/dist-packages (from dvc) (0.12.1)\n",
            "Requirement already satisfied: platformdirs<4,>=3.1.1 in /usr/local/lib/python3.10/dist-packages (from dvc) (3.11.0)\n",
            "Requirement already satisfied: psutil>=5.8 in /usr/local/lib/python3.10/dist-packages (from dvc) (5.9.5)\n",
            "Requirement already satisfied: pydot>=1.2.4 in /usr/local/lib/python3.10/dist-packages (from dvc) (3.0.2)\n",
            "Requirement already satisfied: pygtrie>=2.3.2 in /usr/local/lib/python3.10/dist-packages (from dvc) (2.5.0)\n",
            "Requirement already satisfied: pyparsing>=2.4.7 in /usr/local/lib/python3.10/dist-packages (from dvc) (3.1.4)\n",
            "Requirement already satisfied: requests>=2.22 in /usr/local/lib/python3.10/dist-packages (from dvc) (2.32.3)\n",
            "Requirement already satisfied: rich>=12 in /usr/local/lib/python3.10/dist-packages (from dvc) (13.9.2)\n",
            "Requirement already satisfied: ruamel.yaml>=0.17.11 in /usr/local/lib/python3.10/dist-packages (from dvc) (0.18.6)\n",
            "Requirement already satisfied: scmrepo<4,>=3.3.4 in /usr/local/lib/python3.10/dist-packages (from dvc) (3.3.8)\n",
            "Requirement already satisfied: shortuuid>=0.5 in /usr/local/lib/python3.10/dist-packages (from dvc) (1.0.13)\n",
            "Requirement already satisfied: shtab<2,>=1.3.4 in /usr/local/lib/python3.10/dist-packages (from dvc) (1.7.1)\n",
            "Requirement already satisfied: tabulate>=0.8.7 in /usr/local/lib/python3.10/dist-packages (from dvc) (0.9.0)\n",
            "Requirement already satisfied: tomlkit>=0.11.1 in /usr/local/lib/python3.10/dist-packages (from dvc) (0.13.2)\n",
            "Requirement already satisfied: tqdm<5,>=4.63.1 in /usr/local/lib/python3.10/dist-packages (from dvc) (4.66.5)\n",
            "Requirement already satisfied: voluptuous>=0.11.7 in /usr/local/lib/python3.10/dist-packages (from dvc) (0.15.2)\n",
            "Requirement already satisfied: zc.lockfile>=1.2.1 in /usr/local/lib/python3.10/dist-packages (from dvc) (3.0.post1)\n",
            "Requirement already satisfied: gcsfs>=2022.11.0 in /usr/local/lib/python3.10/dist-packages (from dvc-gs) (2024.6.1)\n",
            "Requirement already satisfied: dictdiffer>=0.8.1 in /usr/local/lib/python3.10/dist-packages (from dvc-data<3.17,>=3.16.2->dvc) (0.9.0)\n",
            "Requirement already satisfied: diskcache>=5.2.1 in /usr/local/lib/python3.10/dist-packages (from dvc-data<3.17,>=3.16.2->dvc) (5.6.3)\n",
            "Requirement already satisfied: sqltrie<1,>=0.11.0 in /usr/local/lib/python3.10/dist-packages (from dvc-data<3.17,>=3.16.2->dvc) (0.11.1)\n",
            "Requirement already satisfied: orjson<4,>=3 in /usr/local/lib/python3.10/dist-packages (from dvc-data<3.17,>=3.16.2->dvc) (3.10.7)\n",
            "Requirement already satisfied: aiohttp-retry>=2.5.0 in /usr/local/lib/python3.10/dist-packages (from dvc-http>=2.29.0->dvc) (2.8.3)\n",
            "Requirement already satisfied: billiard<5.0,>=4.2.0 in /usr/local/lib/python3.10/dist-packages (from celery->dvc) (4.2.1)\n",
            "Requirement already satisfied: vine<6.0,>=5.1.0 in /usr/local/lib/python3.10/dist-packages (from celery->dvc) (5.1.0)\n",
            "Requirement already satisfied: click<9.0,>=8.1.2 in /usr/local/lib/python3.10/dist-packages (from celery->dvc) (8.1.7)\n",
            "Requirement already satisfied: click-didyoumean>=0.3.0 in /usr/local/lib/python3.10/dist-packages (from celery->dvc) (0.3.1)\n",
            "Requirement already satisfied: click-repl>=0.2.0 in /usr/local/lib/python3.10/dist-packages (from celery->dvc) (0.3.0)\n",
            "Requirement already satisfied: click-plugins>=1.1.1 in /usr/local/lib/python3.10/dist-packages (from celery->dvc) (1.1.1)\n",
            "Requirement already satisfied: tzdata>=2022.7 in /usr/local/lib/python3.10/dist-packages (from celery->dvc) (2024.2)\n",
            "Requirement already satisfied: python-dateutil>=2.8.2 in /usr/local/lib/python3.10/dist-packages (from celery->dvc) (2.8.2)\n",
            "Requirement already satisfied: six<2.0,>=1.12 in /usr/local/lib/python3.10/dist-packages (from flatten-dict<1,>=0.4.1->dvc) (1.16.0)\n",
            "Requirement already satisfied: atpublic in /usr/local/lib/python3.10/dist-packages (from flufl.lock<9,>=8.1.0->dvc) (4.1.0)\n",
            "Requirement already satisfied: aiohttp!=4.0.0a0,!=4.0.0a1 in /usr/local/lib/python3.10/dist-packages (from gcsfs>=2022.11.0->dvc-gs) (3.10.10)\n",
            "Requirement already satisfied: decorator>4.1.2 in /usr/local/lib/python3.10/dist-packages (from gcsfs>=2022.11.0->dvc-gs) (4.4.2)\n",
            "Requirement already satisfied: google-auth>=1.2 in /usr/local/lib/python3.10/dist-packages (from gcsfs>=2022.11.0->dvc-gs) (2.27.0)\n",
            "Requirement already satisfied: google-auth-oauthlib in /usr/local/lib/python3.10/dist-packages (from gcsfs>=2022.11.0->dvc-gs) (1.2.1)\n",
            "Requirement already satisfied: google-cloud-storage in /usr/local/lib/python3.10/dist-packages (from gcsfs>=2022.11.0->dvc-gs) (2.8.0)\n",
            "Requirement already satisfied: typer>=0.4.1 in /usr/local/lib/python3.10/dist-packages (from gto<2,>=1.6.0->dvc) (0.12.5)\n",
            "Requirement already satisfied: pydantic!=2.0.0,<3,>=1.9.0 in /usr/local/lib/python3.10/dist-packages (from gto<2,>=1.6.0->dvc) (2.9.2)\n",
            "Requirement already satisfied: semver>=2.13.0 in /usr/local/lib/python3.10/dist-packages (from gto<2,>=1.6.0->dvc) (3.0.2)\n",
            "Requirement already satisfied: entrypoints in /usr/local/lib/python3.10/dist-packages (from gto<2,>=1.6.0->dvc) (0.4)\n",
            "Requirement already satisfied: antlr4-python3-runtime==4.9.* in /usr/local/lib/python3.10/dist-packages (from hydra-core>=1.1->dvc) (4.9.3)\n",
            "Requirement already satisfied: appdirs in /usr/local/lib/python3.10/dist-packages (from iterative-telemetry>=0.0.7->dvc) (1.4.4)\n",
            "Requirement already satisfied: filelock in /usr/local/lib/python3.10/dist-packages (from iterative-telemetry>=0.0.7->dvc) (3.16.1)\n",
            "Requirement already satisfied: amqp<6.0.0,>=5.1.1 in /usr/local/lib/python3.10/dist-packages (from kombu->dvc) (5.2.0)\n",
            "Requirement already satisfied: PyYAML>=5.1.0 in /usr/local/lib/python3.10/dist-packages (from omegaconf->dvc) (6.0.2)\n",
            "Requirement already satisfied: charset-normalizer<4,>=2 in /usr/local/lib/python3.10/dist-packages (from requests>=2.22->dvc) (3.4.0)\n",
            "Requirement already satisfied: idna<4,>=2.5 in /usr/local/lib/python3.10/dist-packages (from requests>=2.22->dvc) (3.10)\n",
            "Requirement already satisfied: urllib3<3,>=1.21.1 in /usr/local/lib/python3.10/dist-packages (from requests>=2.22->dvc) (2.2.3)\n",
            "Requirement already satisfied: certifi>=2017.4.17 in /usr/local/lib/python3.10/dist-packages (from requests>=2.22->dvc) (2024.8.30)\n",
            "Requirement already satisfied: markdown-it-py>=2.2.0 in /usr/local/lib/python3.10/dist-packages (from rich>=12->dvc) (3.0.0)\n",
            "Requirement already satisfied: pygments<3.0.0,>=2.13.0 in /usr/local/lib/python3.10/dist-packages (from rich>=12->dvc) (2.18.0)\n",
            "Requirement already satisfied: typing-extensions<5.0,>=4.0.0 in /usr/local/lib/python3.10/dist-packages (from rich>=12->dvc) (4.12.2)\n",
            "Requirement already satisfied: ruamel.yaml.clib>=0.2.7 in /usr/local/lib/python3.10/dist-packages (from ruamel.yaml>=0.17.11->dvc) (0.2.8)\n",
            "Requirement already satisfied: gitpython>3 in /usr/local/lib/python3.10/dist-packages (from scmrepo<4,>=3.3.4->dvc) (3.1.43)\n",
            "Requirement already satisfied: pygit2>=1.14.0 in /usr/local/lib/python3.10/dist-packages (from scmrepo<4,>=3.3.4->dvc) (1.16.0)\n",
            "Requirement already satisfied: asyncssh<3,>=2.13.1 in /usr/local/lib/python3.10/dist-packages (from scmrepo<4,>=3.3.4->dvc) (2.17.0)\n",
            "Requirement already satisfied: setuptools in /usr/local/lib/python3.10/dist-packages (from zc.lockfile>=1.2.1->dvc) (71.0.4)\n",
            "Requirement already satisfied: aiohappyeyeballs>=2.3.0 in /usr/local/lib/python3.10/dist-packages (from aiohttp!=4.0.0a0,!=4.0.0a1->gcsfs>=2022.11.0->dvc-gs) (2.4.3)\n",
            "Requirement already satisfied: aiosignal>=1.1.2 in /usr/local/lib/python3.10/dist-packages (from aiohttp!=4.0.0a0,!=4.0.0a1->gcsfs>=2022.11.0->dvc-gs) (1.3.1)\n",
            "Requirement already satisfied: frozenlist>=1.1.1 in /usr/local/lib/python3.10/dist-packages (from aiohttp!=4.0.0a0,!=4.0.0a1->gcsfs>=2022.11.0->dvc-gs) (1.4.1)\n",
            "Requirement already satisfied: multidict<7.0,>=4.5 in /usr/local/lib/python3.10/dist-packages (from aiohttp!=4.0.0a0,!=4.0.0a1->gcsfs>=2022.11.0->dvc-gs) (6.1.0)\n",
            "Requirement already satisfied: yarl<2.0,>=1.12.0 in /usr/local/lib/python3.10/dist-packages (from aiohttp!=4.0.0a0,!=4.0.0a1->gcsfs>=2022.11.0->dvc-gs) (1.14.0)\n",
            "Requirement already satisfied: async-timeout<5.0,>=4.0 in /usr/local/lib/python3.10/dist-packages (from aiohttp!=4.0.0a0,!=4.0.0a1->gcsfs>=2022.11.0->dvc-gs) (4.0.3)\n",
            "Requirement already satisfied: cryptography>=39.0 in /usr/local/lib/python3.10/dist-packages (from asyncssh<3,>=2.13.1->scmrepo<4,>=3.3.4->dvc) (43.0.1)\n",
            "Requirement already satisfied: prompt-toolkit>=3.0.36 in /usr/local/lib/python3.10/dist-packages (from click-repl>=0.2.0->celery->dvc) (3.0.48)\n",
            "Requirement already satisfied: gitdb<5,>=4.0.1 in /usr/local/lib/python3.10/dist-packages (from gitpython>3->scmrepo<4,>=3.3.4->dvc) (4.0.11)\n",
            "Requirement already satisfied: cachetools<6.0,>=2.0.0 in /usr/local/lib/python3.10/dist-packages (from google-auth>=1.2->gcsfs>=2022.11.0->dvc-gs) (5.5.0)\n",
            "Requirement already satisfied: pyasn1-modules>=0.2.1 in /usr/local/lib/python3.10/dist-packages (from google-auth>=1.2->gcsfs>=2022.11.0->dvc-gs) (0.4.1)\n",
            "Requirement already satisfied: rsa<5,>=3.1.4 in /usr/local/lib/python3.10/dist-packages (from google-auth>=1.2->gcsfs>=2022.11.0->dvc-gs) (4.9)\n",
            "Requirement already satisfied: mdurl~=0.1 in /usr/local/lib/python3.10/dist-packages (from markdown-it-py>=2.2.0->rich>=12->dvc) (0.1.2)\n",
            "Requirement already satisfied: annotated-types>=0.6.0 in /usr/local/lib/python3.10/dist-packages (from pydantic!=2.0.0,<3,>=1.9.0->gto<2,>=1.6.0->dvc) (0.7.0)\n",
            "Requirement already satisfied: pydantic-core==2.23.4 in /usr/local/lib/python3.10/dist-packages (from pydantic!=2.0.0,<3,>=1.9.0->gto<2,>=1.6.0->dvc) (2.23.4)\n",
            "Requirement already satisfied: cffi>=1.17.0 in /usr/local/lib/python3.10/dist-packages (from pygit2>=1.14.0->scmrepo<4,>=3.3.4->dvc) (1.17.1)\n",
            "Requirement already satisfied: shellingham>=1.3.0 in /usr/local/lib/python3.10/dist-packages (from typer>=0.4.1->gto<2,>=1.6.0->dvc) (1.5.4)\n",
            "Requirement already satisfied: requests-oauthlib>=0.7.0 in /usr/local/lib/python3.10/dist-packages (from google-auth-oauthlib->gcsfs>=2022.11.0->dvc-gs) (1.3.1)\n",
            "Requirement already satisfied: google-api-core!=2.0.*,!=2.1.*,!=2.2.*,!=2.3.0,<3.0.0dev,>=1.31.5 in /usr/local/lib/python3.10/dist-packages (from google-cloud-storage->gcsfs>=2022.11.0->dvc-gs) (2.19.2)\n",
            "Requirement already satisfied: google-cloud-core<3.0dev,>=2.3.0 in /usr/local/lib/python3.10/dist-packages (from google-cloud-storage->gcsfs>=2022.11.0->dvc-gs) (2.4.1)\n",
            "Requirement already satisfied: google-resumable-media>=2.3.2 in /usr/local/lib/python3.10/dist-packages (from google-cloud-storage->gcsfs>=2022.11.0->dvc-gs) (2.7.2)\n",
            "Requirement already satisfied: pycparser in /usr/local/lib/python3.10/dist-packages (from cffi>=1.17.0->pygit2>=1.14.0->scmrepo<4,>=3.3.4->dvc) (2.22)\n",
            "Requirement already satisfied: smmap<6,>=3.0.1 in /usr/local/lib/python3.10/dist-packages (from gitdb<5,>=4.0.1->gitpython>3->scmrepo<4,>=3.3.4->dvc) (5.0.1)\n",
            "Requirement already satisfied: googleapis-common-protos<2.0.dev0,>=1.56.2 in /usr/local/lib/python3.10/dist-packages (from google-api-core!=2.0.*,!=2.1.*,!=2.2.*,!=2.3.0,<3.0.0dev,>=1.31.5->google-cloud-storage->gcsfs>=2022.11.0->dvc-gs) (1.65.0)\n",
            "Requirement already satisfied: protobuf!=3.20.0,!=3.20.1,!=4.21.0,!=4.21.1,!=4.21.2,!=4.21.3,!=4.21.4,!=4.21.5,<6.0.0.dev0,>=3.19.5 in /usr/local/lib/python3.10/dist-packages (from google-api-core!=2.0.*,!=2.1.*,!=2.2.*,!=2.3.0,<3.0.0dev,>=1.31.5->google-cloud-storage->gcsfs>=2022.11.0->dvc-gs) (3.20.3)\n",
            "Requirement already satisfied: proto-plus<2.0.0dev,>=1.22.3 in /usr/local/lib/python3.10/dist-packages (from google-api-core!=2.0.*,!=2.1.*,!=2.2.*,!=2.3.0,<3.0.0dev,>=1.31.5->google-cloud-storage->gcsfs>=2022.11.0->dvc-gs) (1.24.0)\n",
            "Requirement already satisfied: google-crc32c<2.0dev,>=1.0 in /usr/local/lib/python3.10/dist-packages (from google-resumable-media>=2.3.2->google-cloud-storage->gcsfs>=2022.11.0->dvc-gs) (1.6.0)\n",
            "Requirement already satisfied: wcwidth in /usr/local/lib/python3.10/dist-packages (from prompt-toolkit>=3.0.36->click-repl>=0.2.0->celery->dvc) (0.2.13)\n",
            "Requirement already satisfied: pyasn1<0.7.0,>=0.4.6 in /usr/local/lib/python3.10/dist-packages (from pyasn1-modules>=0.2.1->google-auth>=1.2->gcsfs>=2022.11.0->dvc-gs) (0.6.1)\n",
            "Requirement already satisfied: oauthlib>=3.0.0 in /usr/local/lib/python3.10/dist-packages (from requests-oauthlib>=0.7.0->google-auth-oauthlib->gcsfs>=2022.11.0->dvc-gs) (3.2.2)\n",
            "Requirement already satisfied: propcache>=0.2.0 in /usr/local/lib/python3.10/dist-packages (from yarl<2.0,>=1.12.0->aiohttp!=4.0.0a0,!=4.0.0a1->gcsfs>=2022.11.0->dvc-gs) (0.2.0)\n"
          ]
        }
      ]
    },
    {
      "cell_type": "markdown",
      "metadata": {
        "id": "xsHQIdyQHAkV"
      },
      "source": [
        "**Imports**"
      ]
    },
    {
      "cell_type": "code",
      "metadata": {
        "id": "dB7OG0AQAlha"
      },
      "source": [
        "import os\n",
        "import cv2\n",
        "import numpy as np\n",
        "import pandas as pd\n",
        "\n",
        "# Colab auth\n",
        "from google.colab import auth\n",
        "from google.cloud import storage"
      ],
      "execution_count": 2,
      "outputs": []
    },
    {
      "cell_type": "markdown",
      "source": [
        "## **<font color=\"#A41034\">Authenticate</font>**\n",
        "\n",
        "Here we authenticate your Google account that has access to your GCS bucket"
      ],
      "metadata": {
        "id": "7Bk87FITOYFj"
      }
    },
    {
      "cell_type": "code",
      "source": [
        "# This step is required for DVC in colab to access your Bucket\n",
        "auth.authenticate_user()"
      ],
      "metadata": {
        "id": "Xv-fiYJYEKY3"
      },
      "execution_count": 4,
      "outputs": []
    },
    {
      "cell_type": "markdown",
      "source": [
        "## **View Remote Data**\n",
        "\n",
        "To view a DVC repository, listing data files and directories tracked by DVC alongside the remaining Git repo contents.\n",
        "\n",
        "[dvc list reference](https://dvc.org/doc/command-reference/list)"
      ],
      "metadata": {
        "id": "y3nkG0F1KABD"
      }
    },
    {
      "cell_type": "code",
      "source": [
        "# Replace github url with your url\n",
        "!dvc list -R https://github.com/LetianY/data-versioning.git"
      ],
      "metadata": {
        "id": "_Gu5fiPIKEtT",
        "colab": {
          "base_uri": "https://localhost:8080/"
        },
        "outputId": "c7847f72-c379-4f02-ff46-d3e8d2c25388"
      },
      "execution_count": 6,
      "outputs": [
        {
          "output_type": "stream",
          "name": "stdout",
          "text": [
            "\u001b[01;32m.dvcignore\u001b[0m\n",
            ".gitignore\n",
            "\u001b[01;32mDockerfile\u001b[0m\n",
            "\u001b[01;32mPipfile\u001b[0m\n",
            "Pipfile.lock\n",
            "README.md\n",
            "data_pipeline_versioning_cloud_storage.ipynb\n",
            "docker-entrypoint.sh\n",
            "\u001b[01;32mdocker-shell.sh\u001b[0m\n",
            "news_dataset_dvc.dvc\n",
            "news_dataset_dvc/stock-universe/nasdaq100_v1.json\n",
            "news_dataset_dvc/stock-universe/sample_universe_v0.json\n",
            "\u001b[0m"
          ]
        }
      ]
    },
    {
      "cell_type": "markdown",
      "source": [
        "## **Retrieving Data**\n",
        "\n",
        "Once DVC-tracked data are stored remotely, they can be downloaded with dvc get when needed.\n",
        "\n",
        "[dvc get reference](https://dvc.org/doc/command-reference/get)"
      ],
      "metadata": {
        "id": "eh5rjlLbNBar"
      }
    },
    {
      "cell_type": "code",
      "source": [
        "!rm -rf news_dataset_dvc\n",
        "!dvc get https://github.com/LetianY/data-versioning news_dataset_dvc --force --rev dataset_v0"
      ],
      "metadata": {
        "id": "dZ36ndRIoBs3",
        "colab": {
          "base_uri": "https://localhost:8080/"
        },
        "outputId": "4bd9f982-bfe1-4752-a8ec-112774d6f800"
      },
      "execution_count": 11,
      "outputs": [
        {
          "output_type": "stream",
          "name": "stdout",
          "text": [
            "\u001b[0m"
          ]
        }
      ]
    },
    {
      "cell_type": "code",
      "source": [
        "# Check the dataset\n",
        "print(\"Number of items:\",len(os.listdir(\"news_dataset_dvc\")))"
      ],
      "metadata": {
        "id": "J0gEJcGhxG0-",
        "colab": {
          "base_uri": "https://localhost:8080/"
        },
        "outputId": "2999519b-323e-4f0d-d4c8-e2dcbc29a5d4"
      },
      "execution_count": 10,
      "outputs": [
        {
          "output_type": "stream",
          "name": "stdout",
          "text": [
            "Number of items: 1\n"
          ]
        }
      ]
    },
    {
      "cell_type": "markdown",
      "source": [
        "## **Retrieve a different data version**"
      ],
      "metadata": {
        "id": "3b31trYczvCo"
      }
    },
    {
      "cell_type": "code",
      "source": [
        "!rm -rf news_dataset_dvc\n",
        "!dvc get https://github.com/LetianY/data-versioning news_dataset_dvc --force --rev dataset_v0"
      ],
      "metadata": {
        "id": "VXjQIb7JmsvG",
        "colab": {
          "base_uri": "https://localhost:8080/"
        },
        "outputId": "66f7558f-7e03-444a-dd95-39db70150ff0"
      },
      "execution_count": 12,
      "outputs": [
        {
          "output_type": "stream",
          "name": "stdout",
          "text": [
            "\u001b[0m"
          ]
        }
      ]
    },
    {
      "cell_type": "code",
      "source": [
        "# Check the dataset\n",
        "print(\"Number of items:\",len(os.listdir(\"news_dataset_dvc\")))"
      ],
      "metadata": {
        "id": "J_xaCjT0w6Hd",
        "colab": {
          "base_uri": "https://localhost:8080/"
        },
        "outputId": "4a04e018-f888-4cc4-83c6-9a0ea6765779"
      },
      "execution_count": 13,
      "outputs": [
        {
          "output_type": "stream",
          "name": "stdout",
          "text": [
            "Number of items: 1\n"
          ]
        }
      ]
    },
    {
      "cell_type": "code",
      "source": [],
      "metadata": {
        "id": "BcE3zF16r914"
      },
      "execution_count": null,
      "outputs": []
    }
  ]
}