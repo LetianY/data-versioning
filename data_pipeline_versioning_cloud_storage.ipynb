{
  "nbformat": 4,
  "nbformat_minor": 0,
  "metadata": {
    "colab": {
      "provenance": [],
      "include_colab_link": true
    },
    "kernelspec": {
      "name": "python3",
      "display_name": "Python 3"
    },
    "language_info": {
      "name": "python"
    }
  },
  "cells": [
    {
      "cell_type": "markdown",
      "metadata": {
        "id": "view-in-github",
        "colab_type": "text"
      },
      "source": [
        "<a href=\"https://colab.research.google.com/github/LetianY/data-versioning/blob/main/data_pipeline_versioning_cloud_storage.ipynb\" target=\"_parent\"><img src=\"https://colab.research.google.com/assets/colab-badge.svg\" alt=\"Open In Colab\"/></a>"
      ]
    },
    {
      "cell_type": "markdown",
      "source": [
        "<h1 style=\"padding-top: 25px;padding-bottom: 25px;text-align: left; padding-left: 10px; background-color: #DDDDDD;\n",
        "    color: black;\"> <img style=\"float: left; padding-right: 10px;\" src=\"https://raw.githubusercontent.com/Harvard-IACS/2018-CS109A/master/content/styles/iacs.png\" height=\"50px\"> <a href='https://harvard-iacs.github.io/2023-AC215/' target='_blank'><strong><font color=\"#A41034\">AC215: Productionizing AI (MLOps)</font></strong></a></h1>\n",
        "\n",
        "# **<font color=\"#A41034\">Tutorial - Data Pipelines, Labeling, Versioning, Cloud Storage</font>**\n",
        "\n",
        "**Harvard University**<br/>\n",
        "**Fall 2024**<br/>\n",
        "**Instructor:**<br/>\n",
        "Pavlos Protopapas\n",
        "\n",
        "<hr style=\"height:2pt\">"
      ],
      "metadata": {
        "id": "YFxW-HdV50Dt"
      }
    },
    {
      "cell_type": "markdown",
      "metadata": {
        "id": "JzLb0a0JhSe6"
      },
      "source": [
        "## **<font color=\"#A41034\">Tutorial Outline</font>**"
      ]
    },
    {
      "cell_type": "markdown",
      "metadata": {
        "id": "47PVQ5tXGUQA"
      },
      "source": [
        "## **Learning Objectives**\n",
        "\n",
        "By the end of this notebook, you will be:\n",
        "* Familiar with data version from a DVC repo\n",
        "\n",
        "\n",
        "## **Tutorial Content**\n",
        "\n",
        "In order to run this tutorial you should have completed [Data Labeling & Versioning](https://github.com/dlops-io/data-labeling) steps.\n",
        "\n",
        "- View data from a remote DVC repo\n",
        "- Retrieve data from a remote DVC repo\n",
        "- Retrieve a specifi data version from DVC\n"
      ]
    },
    {
      "cell_type": "markdown",
      "metadata": {
        "id": "FgY9xWhgGdt8"
      },
      "source": [
        "## **<font color=\"#A41034\">Setup Notebook</font>**"
      ]
    },
    {
      "cell_type": "markdown",
      "metadata": {
        "id": "c-HGo-xOGr2t"
      },
      "source": [
        "**Copy & setup Colab**"
      ]
    },
    {
      "cell_type": "markdown",
      "metadata": {
        "id": "4qfXH3wYGtSa"
      },
      "source": [
        "1) Select \"File\" menu and pick \"Save a copy in Drive\"   "
      ]
    },
    {
      "cell_type": "markdown",
      "metadata": {
        "id": "nDeiSGphB0ST"
      },
      "source": [
        "**Installs**"
      ]
    },
    {
      "cell_type": "code",
      "metadata": {
        "id": "w6Ez0ZcmB1wB",
        "colab": {
          "base_uri": "https://localhost:8080/"
        },
        "outputId": "d4ba4428-e05a-45ac-9735-e4156b0b4ced"
      },
      "source": [
        "!pip install dvc dvc-gs"
      ],
      "execution_count": null,
      "outputs": [
        {
          "output_type": "stream",
          "name": "stdout",
          "text": [
            "Collecting dvc\n",
            "  Downloading dvc-3.55.2-py3-none-any.whl.metadata (18 kB)\n",
            "Collecting dvc-gs\n",
            "  Downloading dvc_gs-3.0.1-py3-none-any.whl.metadata (2.1 kB)\n",
            "Requirement already satisfied: attrs>=22.2.0 in /usr/local/lib/python3.10/dist-packages (from dvc) (24.2.0)\n",
            "Collecting celery (from dvc)\n",
            "  Downloading celery-5.4.0-py3-none-any.whl.metadata (21 kB)\n",
            "Collecting colorama>=0.3.9 (from dvc)\n",
            "  Downloading colorama-0.4.6-py2.py3-none-any.whl.metadata (17 kB)\n",
            "Collecting configobj>=5.0.6 (from dvc)\n",
            "  Downloading configobj-5.0.9.tar.gz (101 kB)\n",
            "\u001b[2K     \u001b[90m━━━━━━━━━━━━━━━━━━━━━━━━━━━━━━━━━━━━━━━━\u001b[0m \u001b[32m101.5/101.5 kB\u001b[0m \u001b[31m2.1 MB/s\u001b[0m eta \u001b[36m0:00:00\u001b[0m\n",
            "\u001b[?25h  Installing build dependencies ... \u001b[?25l\u001b[?25hdone\n",
            "  Getting requirements to build wheel ... \u001b[?25l\u001b[?25hdone\n"
          ]
        }
      ]
    },
    {
      "cell_type": "markdown",
      "metadata": {
        "id": "xsHQIdyQHAkV"
      },
      "source": [
        "**Imports**"
      ]
    },
    {
      "cell_type": "code",
      "metadata": {
        "id": "dB7OG0AQAlha"
      },
      "source": [
        "import os\n",
        "import cv2\n",
        "import numpy as np\n",
        "import pandas as pd\n",
        "\n",
        "# Colab auth\n",
        "from google.colab import auth\n",
        "from google.cloud import storage"
      ],
      "execution_count": null,
      "outputs": []
    },
    {
      "cell_type": "markdown",
      "source": [
        "## **<font color=\"#A41034\">Authenticate</font>**\n",
        "\n",
        "Here we authenticate your Google account that has access to your GCS bucket"
      ],
      "metadata": {
        "id": "7Bk87FITOYFj"
      }
    },
    {
      "cell_type": "code",
      "source": [
        "# This step is required for DVC in colab to access your Bucket\n",
        "auth.authenticate_user()"
      ],
      "metadata": {
        "id": "Xv-fiYJYEKY3"
      },
      "execution_count": null,
      "outputs": []
    },
    {
      "cell_type": "markdown",
      "source": [
        "## **View Remote Data**\n",
        "\n",
        "To view a DVC repository, listing data files and directories tracked by DVC alongside the remaining Git repo contents.\n",
        "\n",
        "[dvc list reference](https://dvc.org/doc/command-reference/list)"
      ],
      "metadata": {
        "id": "y3nkG0F1KABD"
      }
    },
    {
      "cell_type": "code",
      "source": [
        "# Replace github url with your url\n",
        "!dvc list -R https://github.com/liyao23/data-versioning.git"
      ],
      "metadata": {
        "id": "_Gu5fiPIKEtT",
        "colab": {
          "base_uri": "https://localhost:8080/"
        },
        "outputId": "4c1e19a8-4e17-42b9-8185-160eebdbf682"
      },
      "execution_count": null,
      "outputs": [
        {
          "output_type": "stream",
          "name": "stdout",
          "text": [
            ".dvcignore\n",
            ".gitignore\n",
            "\u001b[01;32mDockerfile\u001b[0m\n",
            "\u001b[01;32mPipfile\u001b[0m\n",
            "Pipfile.lock\n",
            "README.md\n",
            "cheese_dataset.dvc\n",
            "cheese_dataset/cheeses_unlabeled_Image_1.jpg\n",
            "cheese_dataset/cheeses_unlabeled_Image_20.jpg\n",
            "cheese_dataset/cheeses_unlabeled_Image_52.jpg\n",
            "docker-entrypoint.sh\n",
            "\u001b[01;32mdocker-shell.sh\u001b[0m\n",
            "\u001b[0m"
          ]
        }
      ]
    },
    {
      "cell_type": "markdown",
      "source": [
        "## **Retrieving Data**\n",
        "\n",
        "Once DVC-tracked data are stored remotely, they can be downloaded with dvc get when needed.\n",
        "\n",
        "[dvc get reference](https://dvc.org/doc/command-reference/get)"
      ],
      "metadata": {
        "id": "eh5rjlLbNBar"
      }
    },
    {
      "cell_type": "code",
      "source": [
        "!rm -rf cheese_dataset\n",
        "!dvc get https://github.com/liyao23/data-versioning cheese_dataset --force --rev dataset_v22"
      ],
      "metadata": {
        "id": "dZ36ndRIoBs3",
        "colab": {
          "base_uri": "https://localhost:8080/"
        },
        "outputId": "ee1d2cf3-0eaa-42c1-ac28-243528375b06"
      },
      "execution_count": null,
      "outputs": [
        {
          "output_type": "stream",
          "name": "stdout",
          "text": [
            "\u001b[0m"
          ]
        }
      ]
    },
    {
      "cell_type": "code",
      "source": [
        "# Check the dataset\n",
        "print(\"Number of items:\",len(os.listdir(\"cheese_dataset\")))"
      ],
      "metadata": {
        "id": "J0gEJcGhxG0-",
        "colab": {
          "base_uri": "https://localhost:8080/"
        },
        "outputId": "e1296307-943f-44cc-c3dc-39288d390e46"
      },
      "execution_count": null,
      "outputs": [
        {
          "output_type": "stream",
          "name": "stdout",
          "text": [
            "Number of items: 2\n"
          ]
        }
      ]
    },
    {
      "cell_type": "markdown",
      "source": [
        "## **Retrieve a different data version**"
      ],
      "metadata": {
        "id": "3b31trYczvCo"
      }
    },
    {
      "cell_type": "code",
      "source": [
        "!rm -rf cheese_dataset\n",
        "!dvc get https://github.com/liyao23/data-versioning cheese_dataset --force --quiet --rev dataset_v25"
      ],
      "metadata": {
        "id": "VXjQIb7JmsvG",
        "colab": {
          "base_uri": "https://localhost:8080/"
        },
        "outputId": "bbb26b6c-7d4e-4cb5-94c7-a6c43302b158"
      },
      "execution_count": null,
      "outputs": [
        {
          "output_type": "stream",
          "name": "stdout",
          "text": [
            "\u001b[0m"
          ]
        }
      ]
    },
    {
      "cell_type": "code",
      "source": [
        "# Check the dataset\n",
        "print(\"Number of items:\",len(os.listdir(\"cheese_dataset\")))"
      ],
      "metadata": {
        "id": "J_xaCjT0w6Hd",
        "colab": {
          "base_uri": "https://localhost:8080/"
        },
        "outputId": "d51db178-c647-4823-d996-466383745a13"
      },
      "execution_count": null,
      "outputs": [
        {
          "output_type": "stream",
          "name": "stdout",
          "text": [
            "Number of items: 3\n"
          ]
        }
      ]
    },
    {
      "cell_type": "code",
      "source": [],
      "metadata": {
        "id": "BcE3zF16r914"
      },
      "execution_count": null,
      "outputs": []
    }
  ]
}